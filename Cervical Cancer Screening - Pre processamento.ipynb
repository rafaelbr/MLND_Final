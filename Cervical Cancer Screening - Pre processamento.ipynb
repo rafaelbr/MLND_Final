{
 "cells": [
  {
   "cell_type": "markdown",
   "metadata": {},
   "source": [
    "## Pré processamento das imagens\n",
    "\n",
    "Retirado do kernel de the1owl (https://www.kaggle.com/the1owl/artificial-intelligence-for-cc-screening)"
   ]
  },
  {
   "cell_type": "code",
   "execution_count": 1,
   "metadata": {
    "collapsed": true
   },
   "outputs": [],
   "source": [
    "from PIL import ImageFilter, ImageStat, Image, ImageDraw\n",
    "from multiprocessing import Pool, cpu_count\n",
    "from sklearn.preprocessing import LabelEncoder\n",
    "import pandas as pd\n",
    "import numpy as np\n",
    "import glob\n",
    "import cv2"
   ]
  },
  {
   "cell_type": "code",
   "execution_count": 6,
   "metadata": {
    "collapsed": true
   },
   "outputs": [],
   "source": [
    "def im_multi(path):\n",
    "    try:\n",
    "        im_stats_im_ = Image.open(path)\n",
    "        return [path, {'size': im_stats_im_.size}]\n",
    "    except:\n",
    "        print(path)\n",
    "        return [path, {'size': [0,0]}]\n",
    "\n",
    "def im_stats(im_stats_df):\n",
    "    im_stats_d = {}\n",
    "    p = Pool(cpu_count())\n",
    "    ret = p.map(im_multi, im_stats_df['path'])\n",
    "    for i in range(len(ret)):\n",
    "        im_stats_d[ret[i][0]] = ret[i][1]\n",
    "    im_stats_df['size'] = im_stats_df['path'].map(lambda x: ' '.join(str(s) for s in im_stats_d[x]['size']))\n",
    "    return im_stats_df\n",
    "\n",
    "def get_im_cv2(path):\n",
    "    img = cv2.imread(path)\n",
    "    resized = cv2.resize(img, (64, 64), cv2.INTER_LINEAR) #use cv2.resize(img, (64, 64), cv2.INTER_LINEAR)\n",
    "    return [path, resized]\n",
    "\n",
    "def normalize_image_features(paths):\n",
    "    imf_d = {}\n",
    "    p = Pool(cpu_count())\n",
    "    ret = p.map(get_im_cv2, paths)\n",
    "    for i in range(len(ret)):\n",
    "        imf_d[ret[i][0]] = ret[i][1]\n",
    "    ret = []\n",
    "    fdata = [imf_d[f] for f in paths]\n",
    "    fdata = np.array(fdata, dtype=np.uint8)\n",
    "    fdata = fdata.transpose((0, 3, 1, 2))\n",
    "    fdata = fdata.astype('float32')\n",
    "    fdata = fdata / 255\n",
    "    return fdata"
   ]
  },
  {
   "cell_type": "code",
   "execution_count": 3,
   "metadata": {
    "collapsed": false
   },
   "outputs": [
    {
     "name": "stdout",
     "output_type": "stream",
     "text": [
      "        type     image                             path\n",
      "0     Type_3    38.jpg         data/train/Type_3/38.jpg\n",
      "5     Type_3    58.jpg         data/train/Type_3/58.jpg\n",
      "10    Type_3   431.jpg        data/train/Type_3/431.jpg\n",
      "15    Type_3   194.jpg        data/train/Type_3/194.jpg\n",
      "20    Type_3   480.jpg        data/train/Type_3/480.jpg\n",
      "25    Type_3   435.jpg        data/train/Type_3/435.jpg\n",
      "30    Type_3  1284.jpg       data/train/Type_3/1284.jpg\n",
      "35    Type_3   253.jpg        data/train/Type_3/253.jpg\n",
      "40    Type_3  1030.jpg       data/train/Type_3/1030.jpg\n",
      "45    Type_3   324.jpg        data/train/Type_3/324.jpg\n",
      "50    Type_3   585.jpg        data/train/Type_3/585.jpg\n",
      "55    Type_3  1475.jpg       data/train/Type_3/1475.jpg\n",
      "60    Type_3   914.jpg        data/train/Type_3/914.jpg\n",
      "65    Type_3   530.jpg        data/train/Type_3/530.jpg\n",
      "70    Type_3   636.jpg        data/train/Type_3/636.jpg\n",
      "75    Type_3   468.jpg        data/train/Type_3/468.jpg\n",
      "80    Type_3   307.jpg        data/train/Type_3/307.jpg\n",
      "85    Type_3  1307.jpg       data/train/Type_3/1307.jpg\n",
      "90    Type_3  1412.jpg       data/train/Type_3/1412.jpg\n",
      "95    Type_3  1008.jpg       data/train/Type_3/1008.jpg\n",
      "100   Type_3   519.jpg        data/train/Type_3/519.jpg\n",
      "105   Type_3   475.jpg        data/train/Type_3/475.jpg\n",
      "110   Type_3  1252.jpg       data/train/Type_3/1252.jpg\n",
      "115   Type_3  1183.jpg       data/train/Type_3/1183.jpg\n",
      "120   Type_3    11.jpg         data/train/Type_3/11.jpg\n",
      "125   Type_3   150.jpg        data/train/Type_3/150.jpg\n",
      "130   Type_3  1469.jpg       data/train/Type_3/1469.jpg\n",
      "135   Type_3   825.jpg        data/train/Type_3/825.jpg\n",
      "140   Type_3   907.jpg        data/train/Type_3/907.jpg\n",
      "145   Type_3   494.jpg        data/train/Type_3/494.jpg\n",
      "...      ...       ...                              ...\n",
      "8065  Type_2  2793.jpg  data/additional/Type_2/2793.jpg\n",
      "8070  Type_2  1540.jpg  data/additional/Type_2/1540.jpg\n",
      "8075  Type_2  6879.jpg  data/additional/Type_2/6879.jpg\n",
      "8080  Type_2  1911.jpg  data/additional/Type_2/1911.jpg\n",
      "8085  Type_2  1838.jpg  data/additional/Type_2/1838.jpg\n",
      "8090  Type_2  5385.jpg  data/additional/Type_2/5385.jpg\n",
      "8095  Type_2  2116.jpg  data/additional/Type_2/2116.jpg\n",
      "8100  Type_2  6851.jpg  data/additional/Type_2/6851.jpg\n",
      "8105  Type_2  2042.jpg  data/additional/Type_2/2042.jpg\n",
      "8110  Type_2    66.jpg    data/additional/Type_2/66.jpg\n",
      "8115  Type_2   735.jpg   data/additional/Type_2/735.jpg\n",
      "8120  Type_2  2123.jpg  data/additional/Type_2/2123.jpg\n",
      "8125  Type_2  3955.jpg  data/additional/Type_2/3955.jpg\n",
      "8130  Type_2  1946.jpg  data/additional/Type_2/1946.jpg\n",
      "8135  Type_2  2782.jpg  data/additional/Type_2/2782.jpg\n",
      "8140  Type_2    16.jpg    data/additional/Type_2/16.jpg\n",
      "8145  Type_2  6807.jpg  data/additional/Type_2/6807.jpg\n",
      "8150  Type_2  2293.jpg  data/additional/Type_2/2293.jpg\n",
      "8155  Type_2   677.jpg   data/additional/Type_2/677.jpg\n",
      "8160  Type_2  3002.jpg  data/additional/Type_2/3002.jpg\n",
      "8165  Type_2  5500.jpg  data/additional/Type_2/5500.jpg\n",
      "8170  Type_2   353.jpg   data/additional/Type_2/353.jpg\n",
      "8175  Type_2  2025.jpg  data/additional/Type_2/2025.jpg\n",
      "8180  Type_2  2851.jpg  data/additional/Type_2/2851.jpg\n",
      "8185  Type_2   450.jpg   data/additional/Type_2/450.jpg\n",
      "8190  Type_2  2902.jpg  data/additional/Type_2/2902.jpg\n",
      "8195  Type_2  3399.jpg  data/additional/Type_2/3399.jpg\n",
      "8200  Type_2  5493.jpg  data/additional/Type_2/5493.jpg\n",
      "8205  Type_2  4663.jpg  data/additional/Type_2/4663.jpg\n",
      "8210  Type_2  4468.jpg  data/additional/Type_2/4468.jpg\n",
      "\n",
      "[1643 rows x 3 columns]\n"
     ]
    }
   ],
   "source": [
    "train = glob.glob('data/train/**/*.jpg') + glob.glob('data/additional/**/*.jpg')\n",
    "train = pd.DataFrame([[p.split('/')[2],p.split('/')[3],p] for p in train], columns = ['type','image','path'])[::5]\n",
    "print train"
   ]
  },
  {
   "cell_type": "code",
   "execution_count": 7,
   "metadata": {
    "collapsed": false
   },
   "outputs": [
    {
     "name": "stdout",
     "output_type": "stream",
     "text": [
      "['Type_1' 'Type_2' 'Type_3']\n"
     ]
    }
   ],
   "source": [
    "train = im_stats(train)\n",
    "train = train[train['size'] != '0 0'].reset_index(drop=True) #remove bad images\n",
    "train_data = normalize_image_features(train['path'])\n",
    "np.save('train.npy', train_data, allow_pickle=True, fix_imports=True)\n",
    "\n",
    "le = LabelEncoder()\n",
    "train_target = le.fit_transform(train['type'].values)\n",
    "print(le.classes_) #in case not 1 to 3 order\n",
    "np.save('train_target.npy', train_target, allow_pickle=True, fix_imports=True)\n",
    "\n",
    "test = glob.glob('data/test/*.jpg')\n",
    "test = pd.DataFrame([[p.split('/')[2],p] for p in test], columns = ['image','path'])\n",
    "test_data = normalize_image_features(test['path'])\n",
    "np.save('test.npy', test_data, allow_pickle=True, fix_imports=True)\n",
    "\n",
    "test_id = test.image.values\n",
    "np.save('test_id.npy', test_id, allow_pickle=True, fix_imports=True)"
   ]
  },
  {
   "cell_type": "code",
   "execution_count": null,
   "metadata": {
    "collapsed": true
   },
   "outputs": [],
   "source": []
  }
 ],
 "metadata": {
  "kernelspec": {
   "display_name": "Python 2",
   "language": "python",
   "name": "python2"
  },
  "language_info": {
   "codemirror_mode": {
    "name": "ipython",
    "version": 2
   },
   "file_extension": ".py",
   "mimetype": "text/x-python",
   "name": "python",
   "nbconvert_exporter": "python",
   "pygments_lexer": "ipython2",
   "version": "2.7.12"
  }
 },
 "nbformat": 4,
 "nbformat_minor": 0
}
