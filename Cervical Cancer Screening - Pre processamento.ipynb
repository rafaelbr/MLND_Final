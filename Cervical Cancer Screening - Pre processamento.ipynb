{
 "cells": [
  {
   "cell_type": "markdown",
   "metadata": {},
   "source": [
    "## Pré processamento das imagens\n",
    "\n",
    "Retirado do kernel de the1owl (https://www.kaggle.com/the1owl/artificial-intelligence-for-cc-screening)"
   ]
  },
  {
   "cell_type": "code",
   "execution_count": 2,
   "metadata": {
    "collapsed": true
   },
   "outputs": [],
   "source": [
    "from PIL import ImageFilter, ImageStat, Image, ImageDraw\n",
    "from multiprocessing import Pool, cpu_count\n",
    "from sklearn.preprocessing import LabelEncoder\n",
    "import pandas as pd\n",
    "import numpy as np\n",
    "import glob\n",
    "import cv2"
   ]
  },
  {
   "cell_type": "code",
   "execution_count": 1,
   "metadata": {
    "collapsed": true
   },
   "outputs": [],
   "source": [
    "def im_multi(path):\n",
    "    try:\n",
    "        im_stats_im_ = Image.open(path)\n",
    "        return [path, {'size': im_stats_im_.size}]\n",
    "    except:\n",
    "        print(path)\n",
    "        return [path, {'size': [0,0]}]\n",
    "\n",
    "def im_stats(im_stats_df):\n",
    "    im_stats_d = {}\n",
    "    p = Pool(cpu_count())\n",
    "    ret = p.map(im_multi, im_stats_df['path'])\n",
    "    for i in range(len(ret)):\n",
    "        im_stats_d[ret[i][0]] = ret[i][1]\n",
    "    im_stats_df['size'] = im_stats_df['path'].map(lambda x: ' '.join(str(s) for s in im_stats_d[x]['size']))\n",
    "    return im_stats_df\n",
    "\n",
    "def get_im_cv2(path):\n",
    "    img = cv2.imread(path)\n",
    "    resized = cv2.resize(img, (96, 96), cv2.INTER_LINEAR) #use cv2.resize(img, (64, 64), cv2.INTER_LINEAR)\n",
    "    return [path, resized]\n",
    "\n",
    "def normalize_image_features(paths):\n",
    "    imf_d = {}\n",
    "    p = Pool(cpu_count())\n",
    "    ret = p.map(get_im_cv2, paths)\n",
    "    for i in range(len(ret)):\n",
    "        imf_d[ret[i][0]] = ret[i][1]\n",
    "    ret = []\n",
    "    fdata = [imf_d[f] for f in paths]\n",
    "    fdata = np.array(fdata, dtype=np.uint8)\n",
    "    #fdata = fdata.transpose((0, 3, 1, 2))\n",
    "    fdata = fdata.astype('float32')\n",
    "    #fdata = fdata / 255\n",
    "    return fdata"
   ]
  },
  {
   "cell_type": "code",
   "execution_count": 4,
   "metadata": {},
   "outputs": [
    {
     "name": "stdout",
     "output_type": "stream",
     "text": [
      "        type     image                             path\n",
      "0     Type_2   123.jpg        data/train/Type_2/123.jpg\n",
      "5     Type_2   375.jpg        data/train/Type_2/375.jpg\n",
      "10    Type_2   445.jpg        data/train/Type_2/445.jpg\n",
      "15    Type_2   189.jpg        data/train/Type_2/189.jpg\n",
      "20    Type_2   903.jpg        data/train/Type_2/903.jpg\n",
      "25    Type_2   210.jpg        data/train/Type_2/210.jpg\n",
      "30    Type_2   613.jpg        data/train/Type_2/613.jpg\n",
      "35    Type_2  1117.jpg       data/train/Type_2/1117.jpg\n",
      "40    Type_2  1227.jpg       data/train/Type_2/1227.jpg\n",
      "45    Type_2    29.jpg         data/train/Type_2/29.jpg\n",
      "50    Type_2   632.jpg        data/train/Type_2/632.jpg\n",
      "55    Type_2  1330.jpg       data/train/Type_2/1330.jpg\n",
      "60    Type_2  1055.jpg       data/train/Type_2/1055.jpg\n",
      "65    Type_2  1096.jpg       data/train/Type_2/1096.jpg\n",
      "70    Type_2    36.jpg         data/train/Type_2/36.jpg\n",
      "75    Type_2   935.jpg        data/train/Type_2/935.jpg\n",
      "80    Type_2   563.jpg        data/train/Type_2/563.jpg\n",
      "85    Type_2    93.jpg         data/train/Type_2/93.jpg\n",
      "90    Type_2   830.jpg        data/train/Type_2/830.jpg\n",
      "95    Type_2   341.jpg        data/train/Type_2/341.jpg\n",
      "100   Type_2   285.jpg        data/train/Type_2/285.jpg\n",
      "105   Type_2   979.jpg        data/train/Type_2/979.jpg\n",
      "110   Type_2   266.jpg        data/train/Type_2/266.jpg\n",
      "115   Type_2   186.jpg        data/train/Type_2/186.jpg\n",
      "120   Type_2   394.jpg        data/train/Type_2/394.jpg\n",
      "125   Type_2  1405.jpg       data/train/Type_2/1405.jpg\n",
      "130   Type_2   545.jpg        data/train/Type_2/545.jpg\n",
      "135   Type_2   284.jpg        data/train/Type_2/284.jpg\n",
      "140   Type_2   882.jpg        data/train/Type_2/882.jpg\n",
      "145   Type_2     8.jpg          data/train/Type_2/8.jpg\n",
      "...      ...       ...                              ...\n",
      "8065  Type_3  1480.jpg  data/additional/Type_3/1480.jpg\n",
      "8070  Type_3  1113.jpg  data/additional/Type_3/1113.jpg\n",
      "8075  Type_3  5054.jpg  data/additional/Type_3/5054.jpg\n",
      "8080  Type_3  3385.jpg  data/additional/Type_3/3385.jpg\n",
      "8085  Type_3  3144.jpg  data/additional/Type_3/3144.jpg\n",
      "8090  Type_3  4604.jpg  data/additional/Type_3/4604.jpg\n",
      "8095  Type_3  5973.jpg  data/additional/Type_3/5973.jpg\n",
      "8100  Type_3  3320.jpg  data/additional/Type_3/3320.jpg\n",
      "8105  Type_3  1147.jpg  data/additional/Type_3/1147.jpg\n",
      "8110  Type_3  6790.jpg  data/additional/Type_3/6790.jpg\n",
      "8115  Type_3  2295.jpg  data/additional/Type_3/2295.jpg\n",
      "8120  Type_3  6641.jpg  data/additional/Type_3/6641.jpg\n",
      "8125  Type_3  3405.jpg  data/additional/Type_3/3405.jpg\n",
      "8130  Type_3  1388.jpg  data/additional/Type_3/1388.jpg\n",
      "8135  Type_3  3776.jpg  data/additional/Type_3/3776.jpg\n",
      "8140  Type_3  4355.jpg  data/additional/Type_3/4355.jpg\n",
      "8145  Type_3  4073.jpg  data/additional/Type_3/4073.jpg\n",
      "8150  Type_3  5816.jpg  data/additional/Type_3/5816.jpg\n",
      "8155  Type_3  5563.jpg  data/additional/Type_3/5563.jpg\n",
      "8160  Type_3   911.jpg   data/additional/Type_3/911.jpg\n",
      "8165  Type_3   204.jpg   data/additional/Type_3/204.jpg\n",
      "8170  Type_3  2943.jpg  data/additional/Type_3/2943.jpg\n",
      "8175  Type_3  4878.jpg  data/additional/Type_3/4878.jpg\n",
      "8180  Type_3  5641.jpg  data/additional/Type_3/5641.jpg\n",
      "8185  Type_3  6921.jpg  data/additional/Type_3/6921.jpg\n",
      "8190  Type_3  1191.jpg  data/additional/Type_3/1191.jpg\n",
      "8195  Type_3  4755.jpg  data/additional/Type_3/4755.jpg\n",
      "8200  Type_3  5043.jpg  data/additional/Type_3/5043.jpg\n",
      "8205  Type_3  5750.jpg  data/additional/Type_3/5750.jpg\n",
      "8210  Type_3  1078.jpg  data/additional/Type_3/1078.jpg\n",
      "\n",
      "[1643 rows x 3 columns]\n"
     ]
    }
   ],
   "source": [
    "train = glob.glob('data/train/**/*.jpg') + glob.glob('data/additional/**/*.jpg')\n",
    "train = pd.DataFrame([[p.split('/')[2],p.split('/')[3],p] for p in train], columns = ['type','image','path'])[::5]\n",
    "print train"
   ]
  },
  {
   "cell_type": "code",
   "execution_count": 5,
   "metadata": {},
   "outputs": [
    {
     "name": "stdout",
     "output_type": "stream",
     "text": [
      "['Type_1' 'Type_2' 'Type_3']\n"
     ]
    }
   ],
   "source": [
    "train = im_stats(train)\n",
    "train = train[train['size'] != '0 0'].reset_index(drop=True) #remove bad images\n",
    "train_data = normalize_image_features(train['path'])\n",
    "np.save('train.npy', train_data, allow_pickle=True, fix_imports=True)\n",
    "\n",
    "le = LabelEncoder()\n",
    "train_target = le.fit_transform(train['type'].values)\n",
    "print(le.classes_) #in case not 1 to 3 order\n",
    "np.save('train_target.npy', train_target, allow_pickle=True, fix_imports=True)\n",
    "\n",
    "test = glob.glob('data/test/*.jpg')\n",
    "test = pd.DataFrame([[p.split('/')[2],p] for p in test], columns = ['image','path'])\n",
    "test_data = normalize_image_features(test['path'])\n",
    "np.save('test.npy', test_data, allow_pickle=True, fix_imports=True)\n",
    "\n",
    "test_id = test.image.values\n",
    "np.save('test_id.npy', test_id, allow_pickle=True, fix_imports=True)"
   ]
  },
  {
   "cell_type": "code",
   "execution_count": null,
   "metadata": {
    "collapsed": true
   },
   "outputs": [],
   "source": []
  }
 ],
 "metadata": {
  "kernelspec": {
   "display_name": "Python 2",
   "language": "python",
   "name": "python2"
  },
  "language_info": {
   "codemirror_mode": {
    "name": "ipython",
    "version": 2
   },
   "file_extension": ".py",
   "mimetype": "text/x-python",
   "name": "python",
   "nbconvert_exporter": "python",
   "pygments_lexer": "ipython2",
   "version": "2.7.12"
  }
 },
 "nbformat": 4,
 "nbformat_minor": 1
}
