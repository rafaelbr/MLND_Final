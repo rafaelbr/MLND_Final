{
 "cells": [
  {
   "cell_type": "markdown",
   "metadata": {},
   "source": [
    "## VGG16"
   ]
  },
  {
   "cell_type": "code",
   "execution_count": 1,
   "metadata": {
    "collapsed": false
   },
   "outputs": [
    {
     "name": "stderr",
     "output_type": "stream",
     "text": [
      "Using TensorFlow backend.\n"
     ]
    }
   ],
   "source": [
    "from keras.applications.vgg16 import VGG16\n",
    "from keras.layers import Input\n",
    "from sklearn.model_selection import train_test_split\n",
    "from keras import backend as K\n",
    "from keras.preprocessing.image import ImageDataGenerator\n",
    "K.set_image_dim_ordering('th')\n",
    "K.set_floatx('float32')\n",
    "\n",
    "import pandas as pd\n",
    "import numpy as np\n",
    "np.random.seed(17)\n",
    "\n",
    "train_data = np.load('train.npy')\n",
    "train_target = np.load('train_target.npy')\n",
    "\n",
    "x_train,x_val_train,y_train,y_val_train = train_test_split(train_data,train_target,test_size=0.25, random_state=32)"
   ]
  },
  {
   "cell_type": "code",
   "execution_count": 2,
   "metadata": {
    "collapsed": false
   },
   "outputs": [],
   "source": [
    "input = Input(shape=(3, 64, 64))\n",
    "model = VGG16(weights=None, input_tensor=input, classes=3)\n",
    "model.compile(optimizer='sgd', loss='sparse_categorical_crossentropy', metrics=['accuracy'])"
   ]
  },
  {
   "cell_type": "code",
   "execution_count": 4,
   "metadata": {
    "collapsed": false
   },
   "outputs": [
    {
     "name": "stdout",
     "output_type": "stream",
     "text": [
      "Epoch 1/100\n",
      "12/12 [==============================] - 5s - loss: 1.0426 - acc: 0.5667 - val_loss: 1.0387 - val_acc: 0.5401\n",
      "Epoch 2/100\n",
      "12/12 [==============================] - 5s - loss: 1.0421 - acc: 0.5333 - val_loss: 1.0301 - val_acc: 0.5401\n",
      "Epoch 3/100\n",
      "12/12 [==============================] - 5s - loss: 1.0459 - acc: 0.4833 - val_loss: 1.0234 - val_acc: 0.5401\n",
      "Epoch 4/100\n",
      "12/12 [==============================] - 5s - loss: 1.0363 - acc: 0.5167 - val_loss: 1.0176 - val_acc: 0.5401\n",
      "Epoch 5/100\n",
      "12/12 [==============================] - 5s - loss: 1.0356 - acc: 0.5111 - val_loss: 1.0129 - val_acc: 0.5401\n",
      "Epoch 6/100\n",
      "12/12 [==============================] - 5s - loss: 1.0124 - acc: 0.5611 - val_loss: 1.0075 - val_acc: 0.5401\n",
      "Epoch 7/100\n",
      "12/12 [==============================] - 6s - loss: 1.0244 - acc: 0.5084 - val_loss: 1.0036 - val_acc: 0.5401\n",
      "Epoch 8/100\n",
      "12/12 [==============================] - 5s - loss: 1.0020 - acc: 0.5444 - val_loss: 0.9991 - val_acc: 0.5401\n",
      "Epoch 9/100\n",
      "12/12 [==============================] - 5s - loss: 1.0045 - acc: 0.5500 - val_loss: 0.9965 - val_acc: 0.5401\n",
      "Epoch 10/100\n",
      "12/12 [==============================] - 5s - loss: 0.9967 - acc: 0.5389 - val_loss: 0.9932 - val_acc: 0.5401\n",
      "Epoch 11/100\n",
      "12/12 [==============================] - 5s - loss: 0.9681 - acc: 0.5889 - val_loss: 0.9903 - val_acc: 0.5401\n",
      "Epoch 12/100\n",
      "12/12 [==============================] - 5s - loss: 1.0342 - acc: 0.5000 - val_loss: 0.9905 - val_acc: 0.5401\n",
      "Epoch 13/100\n",
      "12/12 [==============================] - 5s - loss: 1.0480 - acc: 0.4722 - val_loss: 0.9908 - val_acc: 0.5401\n",
      "Epoch 14/100\n",
      "12/12 [==============================] - 5s - loss: 1.0244 - acc: 0.5250 - val_loss: 0.9909 - val_acc: 0.5401\n",
      "Epoch 15/100\n",
      "12/12 [==============================] - 5s - loss: 1.0261 - acc: 0.5167 - val_loss: 0.9910 - val_acc: 0.5401\n",
      "Epoch 16/100\n",
      "12/12 [==============================] - 5s - loss: 0.9881 - acc: 0.5389 - val_loss: 0.9884 - val_acc: 0.5401\n",
      "Epoch 17/100\n",
      "12/12 [==============================] - 5s - loss: 1.0213 - acc: 0.5111 - val_loss: 0.9881 - val_acc: 0.5401\n",
      "Epoch 18/100\n",
      "12/12 [==============================] - 5s - loss: 1.0544 - acc: 0.4611 - val_loss: 0.9888 - val_acc: 0.5401\n",
      "Epoch 19/100\n",
      "12/12 [==============================] - 5s - loss: 0.9925 - acc: 0.5500 - val_loss: 0.9874 - val_acc: 0.5401\n",
      "Epoch 20/100\n",
      "12/12 [==============================] - 5s - loss: 0.9826 - acc: 0.5611 - val_loss: 0.9862 - val_acc: 0.5401\n",
      "Epoch 21/100\n",
      "12/12 [==============================] - 5s - loss: 1.0317 - acc: 0.5196 - val_loss: 0.9875 - val_acc: 0.5401\n",
      "Epoch 22/100\n",
      "12/12 [==============================] - 5s - loss: 1.0270 - acc: 0.4889 - val_loss: 0.9868 - val_acc: 0.5401\n",
      "Epoch 23/100\n",
      "12/12 [==============================] - 5s - loss: 1.0041 - acc: 0.5111 - val_loss: 0.9854 - val_acc: 0.5401\n",
      "Epoch 24/100\n",
      "12/12 [==============================] - 5s - loss: 1.0389 - acc: 0.5167 - val_loss: 0.9869 - val_acc: 0.5401\n",
      "Epoch 25/100\n",
      "12/12 [==============================] - 5s - loss: 0.9825 - acc: 0.5667 - val_loss: 0.9860 - val_acc: 0.5401\n",
      "Epoch 26/100\n",
      "12/12 [==============================] - 5s - loss: 0.9741 - acc: 0.5722 - val_loss: 0.9853 - val_acc: 0.5401\n",
      "Epoch 27/100\n",
      "12/12 [==============================] - 5s - loss: 1.0020 - acc: 0.5333 - val_loss: 0.9850 - val_acc: 0.5401\n",
      "Epoch 28/100\n",
      "12/12 [==============================] - 5s - loss: 1.0145 - acc: 0.5251 - val_loss: 0.9852 - val_acc: 0.5401\n",
      "Epoch 29/100\n",
      "12/12 [==============================] - 5s - loss: 0.9986 - acc: 0.5444 - val_loss: 0.9852 - val_acc: 0.5401\n",
      "Epoch 30/100\n",
      "12/12 [==============================] - 5s - loss: 0.9662 - acc: 0.5778 - val_loss: 0.9849 - val_acc: 0.5401\n",
      "Epoch 31/100\n",
      "12/12 [==============================] - 5s - loss: 1.0369 - acc: 0.4833 - val_loss: 0.9843 - val_acc: 0.5401\n",
      "Epoch 32/100\n",
      "12/12 [==============================] - 5s - loss: 1.0394 - acc: 0.4778 - val_loss: 0.9845 - val_acc: 0.5401\n",
      "Epoch 33/100\n",
      "12/12 [==============================] - 5s - loss: 1.0294 - acc: 0.5111 - val_loss: 0.9851 - val_acc: 0.5401\n",
      "Epoch 34/100\n",
      "12/12 [==============================] - 5s - loss: 1.0407 - acc: 0.4944 - val_loss: 0.9861 - val_acc: 0.5401\n",
      "Epoch 35/100\n",
      "12/12 [==============================] - 5s - loss: 0.9936 - acc: 0.5477 - val_loss: 0.9853 - val_acc: 0.5401\n",
      "Epoch 36/100\n",
      "12/12 [==============================] - 5s - loss: 1.0141 - acc: 0.5444 - val_loss: 0.9862 - val_acc: 0.5401\n",
      "Epoch 37/100\n",
      "12/12 [==============================] - 5s - loss: 1.0077 - acc: 0.5167 - val_loss: 0.9852 - val_acc: 0.5401\n",
      "Epoch 38/100\n",
      "12/12 [==============================] - 5s - loss: 1.0321 - acc: 0.4944 - val_loss: 0.9855 - val_acc: 0.5401\n",
      "Epoch 39/100\n",
      "12/12 [==============================] - 5s - loss: 1.0599 - acc: 0.4667 - val_loss: 0.9870 - val_acc: 0.5401\n",
      "Epoch 40/100\n",
      "12/12 [==============================] - 5s - loss: 1.0126 - acc: 0.5167 - val_loss: 0.9862 - val_acc: 0.5401\n",
      "Epoch 41/100\n",
      "12/12 [==============================] - 5s - loss: 0.9426 - acc: 0.6000 - val_loss: 0.9836 - val_acc: 0.5401\n",
      "Epoch 42/100\n",
      "12/12 [==============================] - 5s - loss: 0.9970 - acc: 0.5419 - val_loss: 0.9835 - val_acc: 0.5401\n",
      "Epoch 43/100\n",
      "12/12 [==============================] - 5s - loss: 1.0334 - acc: 0.5167 - val_loss: 0.9848 - val_acc: 0.5401\n",
      "Epoch 44/100\n",
      "12/12 [==============================] - 5s - loss: 1.0059 - acc: 0.5389 - val_loss: 0.9850 - val_acc: 0.5401\n",
      "Epoch 45/100\n",
      "12/12 [==============================] - 5s - loss: 1.0152 - acc: 0.5222 - val_loss: 0.9851 - val_acc: 0.5401\n",
      "Epoch 46/100\n",
      "12/12 [==============================] - 5s - loss: 1.0464 - acc: 0.4778 - val_loss: 0.9856 - val_acc: 0.5401\n",
      "Epoch 47/100\n",
      "12/12 [==============================] - 5s - loss: 1.0310 - acc: 0.5000 - val_loss: 0.9859 - val_acc: 0.5401\n",
      "Epoch 48/100\n",
      "12/12 [==============================] - 5s - loss: 0.9516 - acc: 0.5722 - val_loss: 0.9832 - val_acc: 0.5401\n",
      "Epoch 49/100\n",
      "12/12 [==============================] - 5s - loss: 1.0025 - acc: 0.5419 - val_loss: 0.9835 - val_acc: 0.5401\n",
      "Epoch 50/100\n",
      "12/12 [==============================] - 5s - loss: 0.9903 - acc: 0.5389 - val_loss: 0.9828 - val_acc: 0.5401\n",
      "Epoch 51/100\n",
      "12/12 [==============================] - 5s - loss: 1.0527 - acc: 0.4722 - val_loss: 0.9836 - val_acc: 0.5401\n",
      "Epoch 52/100\n",
      "12/12 [==============================] - 5s - loss: 1.0484 - acc: 0.4944 - val_loss: 0.9851 - val_acc: 0.5401\n",
      "Epoch 53/100\n",
      "12/12 [==============================] - 5s - loss: 1.0390 - acc: 0.4944 - val_loss: 0.9858 - val_acc: 0.5401\n",
      "Epoch 54/100\n",
      "12/12 [==============================] - 5s - loss: 0.9791 - acc: 0.5444 - val_loss: 0.9839 - val_acc: 0.5401\n",
      "Epoch 55/100\n",
      "12/12 [==============================] - 5s - loss: 0.9766 - acc: 0.5722 - val_loss: 0.9833 - val_acc: 0.5401\n",
      "Epoch 56/100\n",
      "12/12 [==============================] - 5s - loss: 1.0128 - acc: 0.5140 - val_loss: 0.9832 - val_acc: 0.5401\n",
      "Epoch 57/100\n",
      "12/12 [==============================] - 5s - loss: 1.0139 - acc: 0.5111 - val_loss: 0.9830 - val_acc: 0.5401\n",
      "Epoch 58/100\n",
      "12/12 [==============================] - 5s - loss: 1.0187 - acc: 0.5167 - val_loss: 0.9832 - val_acc: 0.5401\n",
      "Epoch 59/100\n",
      "12/12 [==============================] - 5s - loss: 0.9750 - acc: 0.5778 - val_loss: 0.9830 - val_acc: 0.5401\n",
      "Epoch 60/100\n",
      "12/12 [==============================] - 5s - loss: 1.0228 - acc: 0.5111 - val_loss: 0.9833 - val_acc: 0.5401\n",
      "Epoch 61/100\n",
      "12/12 [==============================] - 5s - loss: 1.0009 - acc: 0.5389 - val_loss: 0.9832 - val_acc: 0.5401\n",
      "Epoch 62/100\n",
      "12/12 [==============================] - 5s - loss: 1.0070 - acc: 0.5333 - val_loss: 0.9835 - val_acc: 0.5401\n",
      "Epoch 63/100\n",
      "12/12 [==============================] - 5s - loss: 0.9320 - acc: 0.6032 - val_loss: 0.9823 - val_acc: 0.5401\n",
      "Epoch 64/100\n",
      "12/12 [==============================] - 5s - loss: 1.0363 - acc: 0.5000 - val_loss: 0.9827 - val_acc: 0.5401\n",
      "Epoch 65/100\n",
      "12/12 [==============================] - 5s - loss: 1.0178 - acc: 0.5167 - val_loss: 0.9828 - val_acc: 0.5401\n",
      "Epoch 66/100\n",
      "12/12 [==============================] - 5s - loss: 1.0341 - acc: 0.5056 - val_loss: 0.9836 - val_acc: 0.5401\n",
      "Epoch 67/100\n",
      "12/12 [==============================] - 5s - loss: 0.9871 - acc: 0.5500 - val_loss: 0.9831 - val_acc: 0.5401\n",
      "Epoch 68/100\n",
      "12/12 [==============================] - 5s - loss: 1.0156 - acc: 0.5222 - val_loss: 0.9834 - val_acc: 0.5401\n",
      "Epoch 69/100\n",
      "12/12 [==============================] - 5s - loss: 0.9976 - acc: 0.5389 - val_loss: 0.9832 - val_acc: 0.5401\n",
      "Epoch 70/100\n",
      "12/12 [==============================] - 5s - loss: 1.0431 - acc: 0.4972 - val_loss: 0.9844 - val_acc: 0.5401\n",
      "Epoch 71/100\n",
      "12/12 [==============================] - 5s - loss: 1.0006 - acc: 0.5333 - val_loss: 0.9838 - val_acc: 0.5401\n",
      "Epoch 72/100\n",
      "12/12 [==============================] - 5s - loss: 0.9983 - acc: 0.5389 - val_loss: 0.9835 - val_acc: 0.5401\n",
      "Epoch 73/100\n",
      "12/12 [==============================] - 5s - loss: 1.0044 - acc: 0.5500 - val_loss: 0.9843 - val_acc: 0.5401\n",
      "Epoch 74/100\n",
      "12/12 [==============================] - 5s - loss: 1.0178 - acc: 0.5111 - val_loss: 0.9840 - val_acc: 0.5401\n",
      "Epoch 75/100\n",
      "12/12 [==============================] - 5s - loss: 0.9854 - acc: 0.5444 - val_loss: 0.9831 - val_acc: 0.5401\n",
      "Epoch 76/100\n",
      "12/12 [==============================] - 5s - loss: 1.0347 - acc: 0.4944 - val_loss: 0.9836 - val_acc: 0.5401\n",
      "Epoch 77/100\n",
      "12/12 [==============================] - 5s - loss: 0.9983 - acc: 0.5361 - val_loss: 0.9831 - val_acc: 0.5401\n",
      "Epoch 78/100\n",
      "12/12 [==============================] - 5s - loss: 0.9747 - acc: 0.5444 - val_loss: 0.9818 - val_acc: 0.5401\n",
      "Epoch 79/100\n",
      "12/12 [==============================] - 5s - loss: 1.0023 - acc: 0.5500 - val_loss: 0.9824 - val_acc: 0.5401\n",
      "Epoch 80/100\n",
      "12/12 [==============================] - 5s - loss: 1.0263 - acc: 0.5056 - val_loss: 0.9827 - val_acc: 0.5401\n",
      "Epoch 81/100\n",
      "12/12 [==============================] - 5s - loss: 0.9872 - acc: 0.5556 - val_loss: 0.9825 - val_acc: 0.5401\n",
      "Epoch 82/100\n",
      "12/12 [==============================] - 5s - loss: 1.0398 - acc: 0.4833 - val_loss: 0.9830 - val_acc: 0.5401\n",
      "Epoch 83/100\n",
      "12/12 [==============================] - 7s - loss: 1.0012 - acc: 0.5419 - val_loss: 0.9829 - val_acc: 0.5401\n",
      "Epoch 84/100\n",
      "12/12 [==============================] - 5s - loss: 0.9875 - acc: 0.5722 - val_loss: 0.9836 - val_acc: 0.5401\n",
      "Epoch 85/100\n",
      "12/12 [==============================] - 5s - loss: 0.9769 - acc: 0.5556 - val_loss: 0.9829 - val_acc: 0.5401\n",
      "Epoch 86/100\n",
      "12/12 [==============================] - 5s - loss: 1.0149 - acc: 0.5111 - val_loss: 0.9825 - val_acc: 0.5401\n",
      "Epoch 87/100\n",
      "12/12 [==============================] - 5s - loss: 1.0845 - acc: 0.4389 - val_loss: 0.9844 - val_acc: 0.5401\n",
      "Epoch 88/100\n",
      "12/12 [==============================] - 5s - loss: 0.9853 - acc: 0.5500 - val_loss: 0.9832 - val_acc: 0.5401\n",
      "Epoch 89/100\n",
      "12/12 [==============================] - 5s - loss: 1.0337 - acc: 0.4722 - val_loss: 0.9833 - val_acc: 0.5401\n",
      "Epoch 90/100\n",
      "12/12 [==============================] - 5s - loss: 0.9739 - acc: 0.5754 - val_loss: 0.9823 - val_acc: 0.5401\n",
      "Epoch 91/100\n",
      "12/12 [==============================] - 5s - loss: 0.9632 - acc: 0.5611 - val_loss: 0.9810 - val_acc: 0.5401\n",
      "Epoch 92/100\n",
      "12/12 [==============================] - 5s - loss: 0.9837 - acc: 0.5556 - val_loss: 0.9809 - val_acc: 0.5401\n",
      "Epoch 93/100\n",
      "12/12 [==============================] - 5s - loss: 1.0449 - acc: 0.4889 - val_loss: 0.9817 - val_acc: 0.5401\n",
      "Epoch 94/100\n",
      "12/12 [==============================] - 5s - loss: 1.0202 - acc: 0.5000 - val_loss: 0.9818 - val_acc: 0.5401\n",
      "Epoch 95/100\n",
      "12/12 [==============================] - 5s - loss: 0.9893 - acc: 0.5444 - val_loss: 0.9813 - val_acc: 0.5401\n",
      "Epoch 96/100\n",
      "12/12 [==============================] - 5s - loss: 1.0515 - acc: 0.4944 - val_loss: 0.9832 - val_acc: 0.5401\n",
      "Epoch 97/100\n",
      "12/12 [==============================] - 5s - loss: 1.0118 - acc: 0.5365 - val_loss: 0.9836 - val_acc: 0.5401\n",
      "Epoch 98/100\n",
      "12/12 [==============================] - 5s - loss: 0.9647 - acc: 0.5833 - val_loss: 0.9827 - val_acc: 0.5401\n",
      "Epoch 99/100\n",
      "12/12 [==============================] - 5s - loss: 1.0147 - acc: 0.5333 - val_loss: 0.9834 - val_acc: 0.5401\n",
      "Epoch 100/100\n",
      "12/12 [==============================] - 5s - loss: 1.0475 - acc: 0.4778 - val_loss: 0.9841 - val_acc: 0.5401\n"
     ]
    },
    {
     "data": {
      "text/plain": [
       "<keras.callbacks.History at 0x7f7b64087710>"
      ]
     },
     "execution_count": 4,
     "metadata": {},
     "output_type": "execute_result"
    }
   ],
   "source": [
    "datagen = ImageDataGenerator(rotation_range=0.9, zoom_range=0.5, shear_range=0.3, \\\n",
    "                             horizontal_flip=True, vertical_flip=True)\n",
    "datagen.fit(train_data)\n",
    "\n",
    "model.fit_generator(datagen.flow(x_train, y_train, batch_size=15, shuffle=True), steps_per_epoch=len(x_train)/100, \\\n",
    "                    epochs=100, verbose=1, validation_data=(x_val_train, y_val_train))"
   ]
  },
  {
   "cell_type": "code",
   "execution_count": 12,
   "metadata": {
    "collapsed": false
   },
   "outputs": [
    {
     "ename": "ResourceExhaustedError",
     "evalue": "OOM when allocating tensor with shape[512,64,64,64]\n\t [[Node: block1_conv1/convolution = Conv2D[T=DT_FLOAT, data_format=\"NHWC\", padding=\"SAME\", strides=[1, 1, 1, 1], use_cudnn_on_gpu=true, _device=\"/job:localhost/replica:0/task:0/gpu:0\"](block1_conv1/transpose, block1_conv1/kernel/read)]]\n\t [[Node: fc2/Relu/_79 = _Recv[client_terminated=false, recv_device=\"/job:localhost/replica:0/task:0/cpu:0\", send_device=\"/job:localhost/replica:0/task:0/gpu:0\", send_device_incarnation=1, tensor_name=\"edge_200_fc2/Relu\", tensor_type=DT_FLOAT, _device=\"/job:localhost/replica:0/task:0/cpu:0\"]()]]\n\nCaused by op u'block1_conv1/convolution', defined at:\n  File \"/usr/lib/python2.7/runpy.py\", line 174, in _run_module_as_main\n    \"__main__\", fname, loader, pkg_name)\n  File \"/usr/lib/python2.7/runpy.py\", line 72, in _run_code\n    exec code in run_globals\n  File \"/home/geekfox/.local/lib/python2.7/site-packages/ipykernel_launcher.py\", line 16, in <module>\n    app.launch_new_instance()\n  File \"/home/geekfox/.local/lib/python2.7/site-packages/traitlets/config/application.py\", line 658, in launch_instance\n    app.start()\n  File \"/home/geekfox/.local/lib/python2.7/site-packages/ipykernel/kernelapp.py\", line 477, in start\n    ioloop.IOLoop.instance().start()\n  File \"/home/geekfox/.local/lib/python2.7/site-packages/zmq/eventloop/ioloop.py\", line 177, in start\n    super(ZMQIOLoop, self).start()\n  File \"/home/geekfox/.local/lib/python2.7/site-packages/tornado/ioloop.py\", line 888, in start\n    handler_func(fd_obj, events)\n  File \"/home/geekfox/.local/lib/python2.7/site-packages/tornado/stack_context.py\", line 277, in null_wrapper\n    return fn(*args, **kwargs)\n  File \"/home/geekfox/.local/lib/python2.7/site-packages/zmq/eventloop/zmqstream.py\", line 440, in _handle_events\n    self._handle_recv()\n  File \"/home/geekfox/.local/lib/python2.7/site-packages/zmq/eventloop/zmqstream.py\", line 472, in _handle_recv\n    self._run_callback(callback, msg)\n  File \"/home/geekfox/.local/lib/python2.7/site-packages/zmq/eventloop/zmqstream.py\", line 414, in _run_callback\n    callback(*args, **kwargs)\n  File \"/home/geekfox/.local/lib/python2.7/site-packages/tornado/stack_context.py\", line 277, in null_wrapper\n    return fn(*args, **kwargs)\n  File \"/home/geekfox/.local/lib/python2.7/site-packages/ipykernel/kernelbase.py\", line 283, in dispatcher\n    return self.dispatch_shell(stream, msg)\n  File \"/home/geekfox/.local/lib/python2.7/site-packages/ipykernel/kernelbase.py\", line 235, in dispatch_shell\n    handler(stream, idents, msg)\n  File \"/home/geekfox/.local/lib/python2.7/site-packages/ipykernel/kernelbase.py\", line 399, in execute_request\n    user_expressions, allow_stdin)\n  File \"/home/geekfox/.local/lib/python2.7/site-packages/ipykernel/ipkernel.py\", line 196, in do_execute\n    res = shell.run_cell(code, store_history=store_history, silent=silent)\n  File \"/home/geekfox/.local/lib/python2.7/site-packages/ipykernel/zmqshell.py\", line 533, in run_cell\n    return super(ZMQInteractiveShell, self).run_cell(*args, **kwargs)\n  File \"/home/geekfox/.local/lib/python2.7/site-packages/IPython/core/interactiveshell.py\", line 2717, in run_cell\n    interactivity=interactivity, compiler=compiler, result=result)\n  File \"/home/geekfox/.local/lib/python2.7/site-packages/IPython/core/interactiveshell.py\", line 2821, in run_ast_nodes\n    if self.run_code(code, result):\n  File \"/home/geekfox/.local/lib/python2.7/site-packages/IPython/core/interactiveshell.py\", line 2881, in run_code\n    exec(code_obj, self.user_global_ns, self.user_ns)\n  File \"<ipython-input-2-e27ab11fd221>\", line 2, in <module>\n    model = VGG16(weights=None, input_tensor=input, classes=3)\n  File \"/home/geekfox/.local/lib/python2.7/site-packages/keras/applications/vgg16.py\", line 111, in VGG16\n    x = Conv2D(64, (3, 3), activation='relu', padding='same', name='block1_conv1')(img_input)\n  File \"/home/geekfox/.local/lib/python2.7/site-packages/keras/engine/topology.py\", line 585, in __call__\n    output = self.call(inputs, **kwargs)\n  File \"/home/geekfox/.local/lib/python2.7/site-packages/keras/layers/convolutional.py\", line 164, in call\n    dilation_rate=self.dilation_rate)\n  File \"/home/geekfox/.local/lib/python2.7/site-packages/keras/backend/tensorflow_backend.py\", line 3095, in conv2d\n    data_format='NHWC')\n  File \"/home/geekfox/.local/lib/python2.7/site-packages/tensorflow/python/ops/nn_ops.py\", line 661, in convolution\n    op=op)\n  File \"/home/geekfox/.local/lib/python2.7/site-packages/tensorflow/python/ops/nn_ops.py\", line 331, in with_space_to_batch\n    return op(input, num_spatial_dims, padding)\n  File \"/home/geekfox/.local/lib/python2.7/site-packages/tensorflow/python/ops/nn_ops.py\", line 653, in op\n    name=name)\n  File \"/home/geekfox/.local/lib/python2.7/site-packages/tensorflow/python/ops/nn_ops.py\", line 129, in _non_atrous_convolution\n    name=name)\n  File \"/home/geekfox/.local/lib/python2.7/site-packages/tensorflow/python/ops/gen_nn_ops.py\", line 403, in conv2d\n    data_format=data_format, name=name)\n  File \"/home/geekfox/.local/lib/python2.7/site-packages/tensorflow/python/framework/op_def_library.py\", line 768, in apply_op\n    op_def=op_def)\n  File \"/home/geekfox/.local/lib/python2.7/site-packages/tensorflow/python/framework/ops.py\", line 2336, in create_op\n    original_op=self._default_original_op, op_def=op_def)\n  File \"/home/geekfox/.local/lib/python2.7/site-packages/tensorflow/python/framework/ops.py\", line 1228, in __init__\n    self._traceback = _extract_stack()\n\nResourceExhaustedError (see above for traceback): OOM when allocating tensor with shape[512,64,64,64]\n\t [[Node: block1_conv1/convolution = Conv2D[T=DT_FLOAT, data_format=\"NHWC\", padding=\"SAME\", strides=[1, 1, 1, 1], use_cudnn_on_gpu=true, _device=\"/job:localhost/replica:0/task:0/gpu:0\"](block1_conv1/transpose, block1_conv1/kernel/read)]]\n\t [[Node: fc2/Relu/_79 = _Recv[client_terminated=false, recv_device=\"/job:localhost/replica:0/task:0/cpu:0\", send_device=\"/job:localhost/replica:0/task:0/gpu:0\", send_device_incarnation=1, tensor_name=\"edge_200_fc2/Relu\", tensor_type=DT_FLOAT, _device=\"/job:localhost/replica:0/task:0/cpu:0\"]()]]\n",
     "output_type": "error",
     "traceback": [
      "\u001b[0;31m---------------------------------------------------------------------------\u001b[0m",
      "\u001b[0;31mResourceExhaustedError\u001b[0m                    Traceback (most recent call last)",
      "\u001b[0;32m<ipython-input-12-30176577a493>\u001b[0m in \u001b[0;36m<module>\u001b[0;34m()\u001b[0m\n\u001b[1;32m      4\u001b[0m \u001b[0moutput_fc1\u001b[0m \u001b[0;34m=\u001b[0m \u001b[0mK\u001b[0m\u001b[0;34m.\u001b[0m\u001b[0mfunction\u001b[0m\u001b[0;34m(\u001b[0m\u001b[0mmodel\u001b[0m\u001b[0;34m.\u001b[0m\u001b[0minputs\u001b[0m \u001b[0;34m+\u001b[0m \u001b[0;34m[\u001b[0m\u001b[0mK\u001b[0m\u001b[0;34m.\u001b[0m\u001b[0mlearning_phase\u001b[0m\u001b[0;34m(\u001b[0m\u001b[0;34m)\u001b[0m\u001b[0;34m]\u001b[0m\u001b[0;34m,\u001b[0m \u001b[0;34m[\u001b[0m\u001b[0mmodel\u001b[0m\u001b[0;34m.\u001b[0m\u001b[0mlayers\u001b[0m\u001b[0;34m[\u001b[0m\u001b[0;34m-\u001b[0m\u001b[0;36m2\u001b[0m\u001b[0;34m]\u001b[0m\u001b[0;34m.\u001b[0m\u001b[0moutput\u001b[0m\u001b[0;34m]\u001b[0m\u001b[0;34m)\u001b[0m\u001b[0;34m\u001b[0m\u001b[0m\n\u001b[1;32m      5\u001b[0m \u001b[0;34m\u001b[0m\u001b[0m\n\u001b[0;32m----> 6\u001b[0;31m \u001b[0;32mprint\u001b[0m \u001b[0moutput_fc1\u001b[0m\u001b[0;34m(\u001b[0m\u001b[0;34m[\u001b[0m\u001b[0mtest_data\u001b[0m\u001b[0;34m,\u001b[0m \u001b[0;36m0\u001b[0m\u001b[0;34m]\u001b[0m\u001b[0;34m)\u001b[0m\u001b[0;34m\u001b[0m\u001b[0m\n\u001b[0m",
      "\u001b[0;32m/home/geekfox/.local/lib/python2.7/site-packages/keras/backend/tensorflow_backend.pyc\u001b[0m in \u001b[0;36m__call__\u001b[0;34m(self, inputs)\u001b[0m\n\u001b[1;32m   2227\u001b[0m         \u001b[0msession\u001b[0m \u001b[0;34m=\u001b[0m \u001b[0mget_session\u001b[0m\u001b[0;34m(\u001b[0m\u001b[0;34m)\u001b[0m\u001b[0;34m\u001b[0m\u001b[0m\n\u001b[1;32m   2228\u001b[0m         updated = session.run(self.outputs + [self.updates_op],\n\u001b[0;32m-> 2229\u001b[0;31m                               feed_dict=feed_dict)\n\u001b[0m\u001b[1;32m   2230\u001b[0m         \u001b[0;32mreturn\u001b[0m \u001b[0mupdated\u001b[0m\u001b[0;34m[\u001b[0m\u001b[0;34m:\u001b[0m\u001b[0mlen\u001b[0m\u001b[0;34m(\u001b[0m\u001b[0mself\u001b[0m\u001b[0;34m.\u001b[0m\u001b[0moutputs\u001b[0m\u001b[0;34m)\u001b[0m\u001b[0;34m]\u001b[0m\u001b[0;34m\u001b[0m\u001b[0m\n\u001b[1;32m   2231\u001b[0m \u001b[0;34m\u001b[0m\u001b[0m\n",
      "\u001b[0;32m/home/geekfox/.local/lib/python2.7/site-packages/tensorflow/python/client/session.pyc\u001b[0m in \u001b[0;36mrun\u001b[0;34m(self, fetches, feed_dict, options, run_metadata)\u001b[0m\n\u001b[1;32m    776\u001b[0m     \u001b[0;32mtry\u001b[0m\u001b[0;34m:\u001b[0m\u001b[0;34m\u001b[0m\u001b[0m\n\u001b[1;32m    777\u001b[0m       result = self._run(None, fetches, feed_dict, options_ptr,\n\u001b[0;32m--> 778\u001b[0;31m                          run_metadata_ptr)\n\u001b[0m\u001b[1;32m    779\u001b[0m       \u001b[0;32mif\u001b[0m \u001b[0mrun_metadata\u001b[0m\u001b[0;34m:\u001b[0m\u001b[0;34m\u001b[0m\u001b[0m\n\u001b[1;32m    780\u001b[0m         \u001b[0mproto_data\u001b[0m \u001b[0;34m=\u001b[0m \u001b[0mtf_session\u001b[0m\u001b[0;34m.\u001b[0m\u001b[0mTF_GetBuffer\u001b[0m\u001b[0;34m(\u001b[0m\u001b[0mrun_metadata_ptr\u001b[0m\u001b[0;34m)\u001b[0m\u001b[0;34m\u001b[0m\u001b[0m\n",
      "\u001b[0;32m/home/geekfox/.local/lib/python2.7/site-packages/tensorflow/python/client/session.pyc\u001b[0m in \u001b[0;36m_run\u001b[0;34m(self, handle, fetches, feed_dict, options, run_metadata)\u001b[0m\n\u001b[1;32m    980\u001b[0m     \u001b[0;32mif\u001b[0m \u001b[0mfinal_fetches\u001b[0m \u001b[0;32mor\u001b[0m \u001b[0mfinal_targets\u001b[0m\u001b[0;34m:\u001b[0m\u001b[0;34m\u001b[0m\u001b[0m\n\u001b[1;32m    981\u001b[0m       results = self._do_run(handle, final_targets, final_fetches,\n\u001b[0;32m--> 982\u001b[0;31m                              feed_dict_string, options, run_metadata)\n\u001b[0m\u001b[1;32m    983\u001b[0m     \u001b[0;32melse\u001b[0m\u001b[0;34m:\u001b[0m\u001b[0;34m\u001b[0m\u001b[0m\n\u001b[1;32m    984\u001b[0m       \u001b[0mresults\u001b[0m \u001b[0;34m=\u001b[0m \u001b[0;34m[\u001b[0m\u001b[0;34m]\u001b[0m\u001b[0;34m\u001b[0m\u001b[0m\n",
      "\u001b[0;32m/home/geekfox/.local/lib/python2.7/site-packages/tensorflow/python/client/session.pyc\u001b[0m in \u001b[0;36m_do_run\u001b[0;34m(self, handle, target_list, fetch_list, feed_dict, options, run_metadata)\u001b[0m\n\u001b[1;32m   1030\u001b[0m     \u001b[0;32mif\u001b[0m \u001b[0mhandle\u001b[0m \u001b[0;32mis\u001b[0m \u001b[0mNone\u001b[0m\u001b[0;34m:\u001b[0m\u001b[0;34m\u001b[0m\u001b[0m\n\u001b[1;32m   1031\u001b[0m       return self._do_call(_run_fn, self._session, feed_dict, fetch_list,\n\u001b[0;32m-> 1032\u001b[0;31m                            target_list, options, run_metadata)\n\u001b[0m\u001b[1;32m   1033\u001b[0m     \u001b[0;32melse\u001b[0m\u001b[0;34m:\u001b[0m\u001b[0;34m\u001b[0m\u001b[0m\n\u001b[1;32m   1034\u001b[0m       return self._do_call(_prun_fn, self._session, handle, feed_dict,\n",
      "\u001b[0;32m/home/geekfox/.local/lib/python2.7/site-packages/tensorflow/python/client/session.pyc\u001b[0m in \u001b[0;36m_do_call\u001b[0;34m(self, fn, *args)\u001b[0m\n\u001b[1;32m   1050\u001b[0m         \u001b[0;32mexcept\u001b[0m \u001b[0mKeyError\u001b[0m\u001b[0;34m:\u001b[0m\u001b[0;34m\u001b[0m\u001b[0m\n\u001b[1;32m   1051\u001b[0m           \u001b[0;32mpass\u001b[0m\u001b[0;34m\u001b[0m\u001b[0m\n\u001b[0;32m-> 1052\u001b[0;31m       \u001b[0;32mraise\u001b[0m \u001b[0mtype\u001b[0m\u001b[0;34m(\u001b[0m\u001b[0me\u001b[0m\u001b[0;34m)\u001b[0m\u001b[0;34m(\u001b[0m\u001b[0mnode_def\u001b[0m\u001b[0;34m,\u001b[0m \u001b[0mop\u001b[0m\u001b[0;34m,\u001b[0m \u001b[0mmessage\u001b[0m\u001b[0;34m)\u001b[0m\u001b[0;34m\u001b[0m\u001b[0m\n\u001b[0m\u001b[1;32m   1053\u001b[0m \u001b[0;34m\u001b[0m\u001b[0m\n\u001b[1;32m   1054\u001b[0m   \u001b[0;32mdef\u001b[0m \u001b[0m_extend_graph\u001b[0m\u001b[0;34m(\u001b[0m\u001b[0mself\u001b[0m\u001b[0;34m)\u001b[0m\u001b[0;34m:\u001b[0m\u001b[0;34m\u001b[0m\u001b[0m\n",
      "\u001b[0;31mResourceExhaustedError\u001b[0m: OOM when allocating tensor with shape[512,64,64,64]\n\t [[Node: block1_conv1/convolution = Conv2D[T=DT_FLOAT, data_format=\"NHWC\", padding=\"SAME\", strides=[1, 1, 1, 1], use_cudnn_on_gpu=true, _device=\"/job:localhost/replica:0/task:0/gpu:0\"](block1_conv1/transpose, block1_conv1/kernel/read)]]\n\t [[Node: fc2/Relu/_79 = _Recv[client_terminated=false, recv_device=\"/job:localhost/replica:0/task:0/cpu:0\", send_device=\"/job:localhost/replica:0/task:0/gpu:0\", send_device_incarnation=1, tensor_name=\"edge_200_fc2/Relu\", tensor_type=DT_FLOAT, _device=\"/job:localhost/replica:0/task:0/cpu:0\"]()]]\n\nCaused by op u'block1_conv1/convolution', defined at:\n  File \"/usr/lib/python2.7/runpy.py\", line 174, in _run_module_as_main\n    \"__main__\", fname, loader, pkg_name)\n  File \"/usr/lib/python2.7/runpy.py\", line 72, in _run_code\n    exec code in run_globals\n  File \"/home/geekfox/.local/lib/python2.7/site-packages/ipykernel_launcher.py\", line 16, in <module>\n    app.launch_new_instance()\n  File \"/home/geekfox/.local/lib/python2.7/site-packages/traitlets/config/application.py\", line 658, in launch_instance\n    app.start()\n  File \"/home/geekfox/.local/lib/python2.7/site-packages/ipykernel/kernelapp.py\", line 477, in start\n    ioloop.IOLoop.instance().start()\n  File \"/home/geekfox/.local/lib/python2.7/site-packages/zmq/eventloop/ioloop.py\", line 177, in start\n    super(ZMQIOLoop, self).start()\n  File \"/home/geekfox/.local/lib/python2.7/site-packages/tornado/ioloop.py\", line 888, in start\n    handler_func(fd_obj, events)\n  File \"/home/geekfox/.local/lib/python2.7/site-packages/tornado/stack_context.py\", line 277, in null_wrapper\n    return fn(*args, **kwargs)\n  File \"/home/geekfox/.local/lib/python2.7/site-packages/zmq/eventloop/zmqstream.py\", line 440, in _handle_events\n    self._handle_recv()\n  File \"/home/geekfox/.local/lib/python2.7/site-packages/zmq/eventloop/zmqstream.py\", line 472, in _handle_recv\n    self._run_callback(callback, msg)\n  File \"/home/geekfox/.local/lib/python2.7/site-packages/zmq/eventloop/zmqstream.py\", line 414, in _run_callback\n    callback(*args, **kwargs)\n  File \"/home/geekfox/.local/lib/python2.7/site-packages/tornado/stack_context.py\", line 277, in null_wrapper\n    return fn(*args, **kwargs)\n  File \"/home/geekfox/.local/lib/python2.7/site-packages/ipykernel/kernelbase.py\", line 283, in dispatcher\n    return self.dispatch_shell(stream, msg)\n  File \"/home/geekfox/.local/lib/python2.7/site-packages/ipykernel/kernelbase.py\", line 235, in dispatch_shell\n    handler(stream, idents, msg)\n  File \"/home/geekfox/.local/lib/python2.7/site-packages/ipykernel/kernelbase.py\", line 399, in execute_request\n    user_expressions, allow_stdin)\n  File \"/home/geekfox/.local/lib/python2.7/site-packages/ipykernel/ipkernel.py\", line 196, in do_execute\n    res = shell.run_cell(code, store_history=store_history, silent=silent)\n  File \"/home/geekfox/.local/lib/python2.7/site-packages/ipykernel/zmqshell.py\", line 533, in run_cell\n    return super(ZMQInteractiveShell, self).run_cell(*args, **kwargs)\n  File \"/home/geekfox/.local/lib/python2.7/site-packages/IPython/core/interactiveshell.py\", line 2717, in run_cell\n    interactivity=interactivity, compiler=compiler, result=result)\n  File \"/home/geekfox/.local/lib/python2.7/site-packages/IPython/core/interactiveshell.py\", line 2821, in run_ast_nodes\n    if self.run_code(code, result):\n  File \"/home/geekfox/.local/lib/python2.7/site-packages/IPython/core/interactiveshell.py\", line 2881, in run_code\n    exec(code_obj, self.user_global_ns, self.user_ns)\n  File \"<ipython-input-2-e27ab11fd221>\", line 2, in <module>\n    model = VGG16(weights=None, input_tensor=input, classes=3)\n  File \"/home/geekfox/.local/lib/python2.7/site-packages/keras/applications/vgg16.py\", line 111, in VGG16\n    x = Conv2D(64, (3, 3), activation='relu', padding='same', name='block1_conv1')(img_input)\n  File \"/home/geekfox/.local/lib/python2.7/site-packages/keras/engine/topology.py\", line 585, in __call__\n    output = self.call(inputs, **kwargs)\n  File \"/home/geekfox/.local/lib/python2.7/site-packages/keras/layers/convolutional.py\", line 164, in call\n    dilation_rate=self.dilation_rate)\n  File \"/home/geekfox/.local/lib/python2.7/site-packages/keras/backend/tensorflow_backend.py\", line 3095, in conv2d\n    data_format='NHWC')\n  File \"/home/geekfox/.local/lib/python2.7/site-packages/tensorflow/python/ops/nn_ops.py\", line 661, in convolution\n    op=op)\n  File \"/home/geekfox/.local/lib/python2.7/site-packages/tensorflow/python/ops/nn_ops.py\", line 331, in with_space_to_batch\n    return op(input, num_spatial_dims, padding)\n  File \"/home/geekfox/.local/lib/python2.7/site-packages/tensorflow/python/ops/nn_ops.py\", line 653, in op\n    name=name)\n  File \"/home/geekfox/.local/lib/python2.7/site-packages/tensorflow/python/ops/nn_ops.py\", line 129, in _non_atrous_convolution\n    name=name)\n  File \"/home/geekfox/.local/lib/python2.7/site-packages/tensorflow/python/ops/gen_nn_ops.py\", line 403, in conv2d\n    data_format=data_format, name=name)\n  File \"/home/geekfox/.local/lib/python2.7/site-packages/tensorflow/python/framework/op_def_library.py\", line 768, in apply_op\n    op_def=op_def)\n  File \"/home/geekfox/.local/lib/python2.7/site-packages/tensorflow/python/framework/ops.py\", line 2336, in create_op\n    original_op=self._default_original_op, op_def=op_def)\n  File \"/home/geekfox/.local/lib/python2.7/site-packages/tensorflow/python/framework/ops.py\", line 1228, in __init__\n    self._traceback = _extract_stack()\n\nResourceExhaustedError (see above for traceback): OOM when allocating tensor with shape[512,64,64,64]\n\t [[Node: block1_conv1/convolution = Conv2D[T=DT_FLOAT, data_format=\"NHWC\", padding=\"SAME\", strides=[1, 1, 1, 1], use_cudnn_on_gpu=true, _device=\"/job:localhost/replica:0/task:0/gpu:0\"](block1_conv1/transpose, block1_conv1/kernel/read)]]\n\t [[Node: fc2/Relu/_79 = _Recv[client_terminated=false, recv_device=\"/job:localhost/replica:0/task:0/cpu:0\", send_device=\"/job:localhost/replica:0/task:0/gpu:0\", send_device_incarnation=1, tensor_name=\"edge_200_fc2/Relu\", tensor_type=DT_FLOAT, _device=\"/job:localhost/replica:0/task:0/cpu:0\"]()]]\n"
     ]
    }
   ],
   "source": [
    "test_data = np.load('test.npy')\n",
    "test_id = np.load('test_id.npy')\n",
    "\n",
    "output_fc1 = K.function(model.inputs + [K.learning_phase()], [model.layers[-2].output])\n",
    "\n",
    "print output_fc1([test_data, 1])"
   ]
  },
  {
   "cell_type": "code",
   "execution_count": 2,
   "metadata": {
    "collapsed": false
   },
   "outputs": [
    {
     "ename": "NameError",
     "evalue": "name 'np' is not defined",
     "output_type": "error",
     "traceback": [
      "\u001b[0;31m---------------------------------------------------------------------------\u001b[0m",
      "\u001b[0;31mNameError\u001b[0m                                 Traceback (most recent call last)",
      "\u001b[0;32m<ipython-input-2-e50067876add>\u001b[0m in \u001b[0;36m<module>\u001b[0;34m()\u001b[0m\n\u001b[0;32m----> 1\u001b[0;31m \u001b[0mtest_data\u001b[0m \u001b[0;34m=\u001b[0m \u001b[0mnp\u001b[0m\u001b[0;34m.\u001b[0m\u001b[0mload\u001b[0m\u001b[0;34m(\u001b[0m\u001b[0;34m'test.npy'\u001b[0m\u001b[0;34m)\u001b[0m\u001b[0;34m\u001b[0m\u001b[0m\n\u001b[0m\u001b[1;32m      2\u001b[0m \u001b[0mtest_id\u001b[0m \u001b[0;34m=\u001b[0m \u001b[0mnp\u001b[0m\u001b[0;34m.\u001b[0m\u001b[0mload\u001b[0m\u001b[0;34m(\u001b[0m\u001b[0;34m'test_id.npy'\u001b[0m\u001b[0;34m)\u001b[0m\u001b[0;34m\u001b[0m\u001b[0m\n\u001b[1;32m      3\u001b[0m \u001b[0;34m\u001b[0m\u001b[0m\n\u001b[1;32m      4\u001b[0m \u001b[0mpred\u001b[0m \u001b[0;34m=\u001b[0m \u001b[0mmodel\u001b[0m\u001b[0;34m.\u001b[0m\u001b[0mpredict\u001b[0m\u001b[0;34m(\u001b[0m\u001b[0mtest_data\u001b[0m\u001b[0;34m)\u001b[0m\u001b[0;34m\u001b[0m\u001b[0m\n\u001b[1;32m      5\u001b[0m \u001b[0mdf\u001b[0m \u001b[0;34m=\u001b[0m \u001b[0mpd\u001b[0m\u001b[0;34m.\u001b[0m\u001b[0mDataFrame\u001b[0m\u001b[0;34m(\u001b[0m\u001b[0mpred\u001b[0m\u001b[0;34m,\u001b[0m \u001b[0mcolumns\u001b[0m\u001b[0;34m=\u001b[0m\u001b[0;34m[\u001b[0m\u001b[0;34m'Type_1'\u001b[0m\u001b[0;34m,\u001b[0m\u001b[0;34m'Type_2'\u001b[0m\u001b[0;34m,\u001b[0m\u001b[0;34m'Type_3'\u001b[0m\u001b[0;34m]\u001b[0m\u001b[0;34m)\u001b[0m\u001b[0;34m\u001b[0m\u001b[0m\n",
      "\u001b[0;31mNameError\u001b[0m: name 'np' is not defined"
     ]
    }
   ],
   "source": [
    "test_data = np.load('test.npy')\n",
    "test_id = np.load('test_id.npy')\n",
    "\n",
    "pred = model.predict(test_data)\n",
    "df = pd.DataFrame(pred, columns=['Type_1','Type_2','Type_3'])\n",
    "df['image_name'] = test_id\n",
    "df.to_csv('submission.csv', index=False)"
   ]
  },
  {
   "cell_type": "code",
   "execution_count": null,
   "metadata": {
    "collapsed": true
   },
   "outputs": [],
   "source": []
  }
 ],
 "metadata": {
  "kernelspec": {
   "display_name": "Python 2",
   "language": "python",
   "name": "python2"
  },
  "language_info": {
   "codemirror_mode": {
    "name": "ipython",
    "version": 2
   },
   "file_extension": ".py",
   "mimetype": "text/x-python",
   "name": "python",
   "nbconvert_exporter": "python",
   "pygments_lexer": "ipython2",
   "version": "2.7.12"
  }
 },
 "nbformat": 4,
 "nbformat_minor": 0
}
